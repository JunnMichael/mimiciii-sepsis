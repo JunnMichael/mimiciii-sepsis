{
 "cells": [
  {
   "cell_type": "markdown",
   "metadata": {},
   "source": [
    "Exploratory Analysis of the MIMIC-III database. This subset includes patients with the sepsis ICD-9 code."
   ]
  },
  {
   "cell_type": "code",
   "execution_count": 1,
   "metadata": {
    "collapsed": true
   },
   "outputs": [],
   "source": [
    "import pandas as pd\n",
    "import numpy as np\n",
    "from datetime import datetime\n",
    "import seaborn as sns\n",
    "from matplotlib import pyplot as plt\n",
    "%matplotlib inline"
   ]
  },
  {
   "cell_type": "code",
   "execution_count": 2,
   "metadata": {
    "collapsed": true
   },
   "outputs": [],
   "source": [
    "final = pd.read_csv('Final/final.csv')\n",
    "dob = pd.read_csv('Final/dob2.csv')\n",
    "icu = pd.read_csv('Final/icustay.csv')\n",
    "icd = pd.read_csv('Final/number_of_icd.csv')\n",
    "meds = pd.read_csv('Final/number_of_meds.csv')"
   ]
  },
  {
   "cell_type": "code",
   "execution_count": 3,
   "metadata": {},
   "outputs": [
    {
     "data": {
      "text/html": [
       "<div>\n",
       "<style>\n",
       "    .dataframe thead tr:only-child th {\n",
       "        text-align: right;\n",
       "    }\n",
       "\n",
       "    .dataframe thead th {\n",
       "        text-align: left;\n",
       "    }\n",
       "\n",
       "    .dataframe tbody tr th {\n",
       "        vertical-align: top;\n",
       "    }\n",
       "</style>\n",
       "<table border=\"1\" class=\"dataframe\">\n",
       "  <thead>\n",
       "    <tr style=\"text-align: right;\">\n",
       "      <th></th>\n",
       "      <th>SUBJECT_ID</th>\n",
       "      <th>HADM_ID</th>\n",
       "      <th>HOSPITAL_EXPIRE_FLAG</th>\n",
       "      <th>HAS_CHARTEVENTS_DATA</th>\n",
       "    </tr>\n",
       "  </thead>\n",
       "  <tbody>\n",
       "    <tr>\n",
       "      <th>count</th>\n",
       "      <td>4555.000000</td>\n",
       "      <td>4555.000000</td>\n",
       "      <td>4555.000000</td>\n",
       "      <td>4555.0</td>\n",
       "    </tr>\n",
       "    <tr>\n",
       "      <th>mean</th>\n",
       "      <td>40834.167947</td>\n",
       "      <td>149304.086937</td>\n",
       "      <td>0.371679</td>\n",
       "      <td>1.0</td>\n",
       "    </tr>\n",
       "    <tr>\n",
       "      <th>std</th>\n",
       "      <td>29659.166297</td>\n",
       "      <td>28592.413555</td>\n",
       "      <td>0.483306</td>\n",
       "      <td>0.0</td>\n",
       "    </tr>\n",
       "    <tr>\n",
       "      <th>min</th>\n",
       "      <td>21.000000</td>\n",
       "      <td>100028.000000</td>\n",
       "      <td>0.000000</td>\n",
       "      <td>1.0</td>\n",
       "    </tr>\n",
       "    <tr>\n",
       "      <th>25%</th>\n",
       "      <td>15607.500000</td>\n",
       "      <td>124922.000000</td>\n",
       "      <td>0.000000</td>\n",
       "      <td>1.0</td>\n",
       "    </tr>\n",
       "    <tr>\n",
       "      <th>50%</th>\n",
       "      <td>30202.000000</td>\n",
       "      <td>149165.000000</td>\n",
       "      <td>0.000000</td>\n",
       "      <td>1.0</td>\n",
       "    </tr>\n",
       "    <tr>\n",
       "      <th>75%</th>\n",
       "      <td>66000.500000</td>\n",
       "      <td>174062.500000</td>\n",
       "      <td>1.000000</td>\n",
       "      <td>1.0</td>\n",
       "    </tr>\n",
       "    <tr>\n",
       "      <th>max</th>\n",
       "      <td>99991.000000</td>\n",
       "      <td>199943.000000</td>\n",
       "      <td>1.000000</td>\n",
       "      <td>1.0</td>\n",
       "    </tr>\n",
       "  </tbody>\n",
       "</table>\n",
       "</div>"
      ],
      "text/plain": [
       "         SUBJECT_ID        HADM_ID  HOSPITAL_EXPIRE_FLAG  HAS_CHARTEVENTS_DATA\n",
       "count   4555.000000    4555.000000           4555.000000                4555.0\n",
       "mean   40834.167947  149304.086937              0.371679                   1.0\n",
       "std    29659.166297   28592.413555              0.483306                   0.0\n",
       "min       21.000000  100028.000000              0.000000                   1.0\n",
       "25%    15607.500000  124922.000000              0.000000                   1.0\n",
       "50%    30202.000000  149165.000000              0.000000                   1.0\n",
       "75%    66000.500000  174062.500000              1.000000                   1.0\n",
       "max    99991.000000  199943.000000              1.000000                   1.0"
      ]
     },
     "execution_count": 3,
     "metadata": {},
     "output_type": "execute_result"
    }
   ],
   "source": [
    "final.describe()"
   ]
  },
  {
   "cell_type": "code",
   "execution_count": 4,
   "metadata": {},
   "outputs": [],
   "source": [
    "# Merge final and dob\n",
    "final_dob = final.merge(dob, left_on=['SUBJECT_ID','HADM_ID'], right_on=['SUBJECT_ID','HADM_ID'])\n",
    "final_dob['DOB'] = final_dob['DOB'].str.replace(\"T\", \" \")\n",
    "final_dob['DOB'] = final_dob['DOB'].map(lambda x: datetime.strptime(x, '%Y-%m-%d %H:%M:%S'))\n",
    "final_dob['ADMITTIME'] = final_dob['ADMITTIME'].str.replace(\"T\", \" \")\n",
    "final_dob['ADMITTIME'] = final_dob['ADMITTIME'].map(lambda x: datetime.strptime(x, '%Y-%m-%d %H:%M:%S'))\n",
    "final_dob['AGE'] = abs(final_dob['ADMITTIME'] - final_dob['DOB'])\n",
    "final_dob['AGE'] = final_dob['AGE']/np.timedelta64(1,'Y')\n",
    "df = final_dob.merge(icd, left_on='SUBJECT_ID', right_on='SUBJECT_ID')\n",
    "df = df[(df['AGE'] > 1)]\n",
    "\n",
    "expired = []\n",
    "for row in df.iterrows():\n",
    "    if str(row[1]['DOD_HOSP']) == 'nan' and row[1]['HOSPITAL_EXPIRE_FLAG'] == 0:\n",
    "        expired.append(0)\n",
    "    else:\n",
    "        expired.append(1)\n",
    "df['EXPIRED_FLAG'] = expired"
   ]
  },
  {
   "cell_type": "markdown",
   "metadata": {},
   "source": [
    "## AGE"
   ]
  },
  {
   "cell_type": "code",
   "execution_count": 5,
   "metadata": {},
   "outputs": [
    {
     "data": {
      "text/plain": [
       "count    4554.000000\n",
       "mean       81.916901\n",
       "std        59.640926\n",
       "min        18.022058\n",
       "25%        56.254093\n",
       "50%        68.695120\n",
       "75%        80.415784\n",
       "max       284.553357\n",
       "Name: AGE, dtype: float64"
      ]
     },
     "execution_count": 5,
     "metadata": {},
     "output_type": "execute_result"
    }
   ],
   "source": [
    "df['AGE'].describe()"
   ]
  },
  {
   "cell_type": "code",
   "execution_count": 6,
   "metadata": {},
   "outputs": [
    {
     "data": {
      "text/plain": [
       "<matplotlib.axes._subplots.AxesSubplot at 0x1cbdcf93be0>"
      ]
     },
     "execution_count": 6,
     "metadata": {},
     "output_type": "execute_result"
    },
    {
     "data": {
      "image/png": "[encoded data removed]",
      "text/plain": [
       "<matplotlib.figure.Figure at 0x1cbdeb9bbe0>"
      ]
     },
     "metadata": {},
     "output_type": "display_data"
    }
   ],
   "source": [
    "plt.figure(figsize=(16,4))\n",
    "sns.set(font_scale = 1.5)\n",
    "sns.distplot(df['AGE'])"
   ]
  },
  {
   "cell_type": "code",
   "execution_count": 7,
   "metadata": {},
   "outputs": [
    {
     "data": {
      "text/plain": [
       "count    2225.000000\n",
       "mean       87.267826\n",
       "std        63.144928\n",
       "min        20.580220\n",
       "25%        59.822492\n",
       "50%        71.428661\n",
       "75%        82.388858\n",
       "max       284.553279\n",
       "Name: AGE, dtype: float64"
      ]
     },
     "execution_count": 7,
     "metadata": {},
     "output_type": "execute_result"
    }
   ],
   "source": [
    "# expired pts\n",
    "\n",
    "df['AGE'][(df['EXPIRED_FLAG'] == 1)].describe()"
   ]
  },
  {
   "cell_type": "code",
   "execution_count": null,
   "metadata": {
    "collapsed": true
   },
   "outputs": [],
   "source": []
  },
  {
   "cell_type": "markdown",
   "metadata": {},
   "source": [
    "## LOS"
   ]
  },
  {
   "cell_type": "code",
   "execution_count": 8,
   "metadata": {
    "collapsed": true
   },
   "outputs": [],
   "source": [
    "icu_df = df.merge(icu, left_on='SUBJECT_ID', right_on='SUBJECT_ID')"
   ]
  },
  {
   "cell_type": "code",
   "execution_count": 9,
   "metadata": {},
   "outputs": [
    {
     "data": {
      "text/plain": [
       "count    9419.000000\n",
       "mean        6.090338\n",
       "std         8.825598\n",
       "min         0.006600\n",
       "25%         1.659600\n",
       "50%         2.967100\n",
       "75%         6.762850\n",
       "max       173.072500\n",
       "Name: LOS, dtype: float64"
      ]
     },
     "execution_count": 9,
     "metadata": {},
     "output_type": "execute_result"
    }
   ],
   "source": [
    "icu_df['LOS'].describe()"
   ]
  },
  {
   "cell_type": "code",
   "execution_count": 10,
   "metadata": {},
   "outputs": [
    {
     "data": {
      "text/plain": [
       "<matplotlib.axes._subplots.AxesSubplot at 0x1cbdd345588>"
      ]
     },
     "execution_count": 10,
     "metadata": {},
     "output_type": "execute_result"
    },
    {
     "data": {
      "image/png": "[encoded data removed]",
      "text/plain": [
       "<matplotlib.figure.Figure at 0x1cbdd33cdd8>"
      ]
     },
     "metadata": {},
     "output_type": "display_data"
    }
   ],
   "source": [
    "plt.figure(figsize=(16,7))\n",
    "sns.distplot(icu_df['LOS'])"
   ]
  },
  {
   "cell_type": "code",
   "execution_count": 11,
   "metadata": {},
   "outputs": [
    {
     "data": {
      "text/plain": [
       "count    4974.000000\n",
       "mean        6.242165\n",
       "std         8.713466\n",
       "min         0.007100\n",
       "25%         1.612725\n",
       "50%         3.065450\n",
       "75%         7.138475\n",
       "max       153.928000\n",
       "Name: LOS, dtype: float64"
      ]
     },
     "execution_count": 11,
     "metadata": {},
     "output_type": "execute_result"
    }
   ],
   "source": [
    "# patients expired\n",
    "icu_df['LOS'][(icu_df['EXPIRED_FLAG'] == 1)].describe()"
   ]
  },
  {
   "cell_type": "code",
   "execution_count": 12,
   "metadata": {},
   "outputs": [
    {
     "data": {
      "text/html": [
       "<div>\n",
       "<style>\n",
       "    .dataframe thead tr:only-child th {\n",
       "        text-align: right;\n",
       "    }\n",
       "\n",
       "    .dataframe thead th {\n",
       "        text-align: left;\n",
       "    }\n",
       "\n",
       "    .dataframe tbody tr th {\n",
       "        vertical-align: top;\n",
       "    }\n",
       "</style>\n",
       "<table border=\"1\" class=\"dataframe\">\n",
       "  <thead>\n",
       "    <tr style=\"text-align: right;\">\n",
       "      <th></th>\n",
       "      <th>LOS</th>\n",
       "    </tr>\n",
       "  </thead>\n",
       "  <tbody>\n",
       "    <tr>\n",
       "      <th>count</th>\n",
       "      <td>4553.000000</td>\n",
       "    </tr>\n",
       "    <tr>\n",
       "      <th>mean</th>\n",
       "      <td>12.599361</td>\n",
       "    </tr>\n",
       "    <tr>\n",
       "      <th>std</th>\n",
       "      <td>16.625461</td>\n",
       "    </tr>\n",
       "    <tr>\n",
       "      <th>min</th>\n",
       "      <td>0.158300</td>\n",
       "    </tr>\n",
       "    <tr>\n",
       "      <th>25%</th>\n",
       "      <td>2.839800</td>\n",
       "    </tr>\n",
       "    <tr>\n",
       "      <th>50%</th>\n",
       "      <td>6.736500</td>\n",
       "    </tr>\n",
       "    <tr>\n",
       "      <th>75%</th>\n",
       "      <td>15.820600</td>\n",
       "    </tr>\n",
       "    <tr>\n",
       "      <th>max</th>\n",
       "      <td>268.624500</td>\n",
       "    </tr>\n",
       "  </tbody>\n",
       "</table>\n",
       "</div>"
      ],
      "text/plain": [
       "               LOS\n",
       "count  4553.000000\n",
       "mean     12.599361\n",
       "std      16.625461\n",
       "min       0.158300\n",
       "25%       2.839800\n",
       "50%       6.736500\n",
       "75%      15.820600\n",
       "max     268.624500"
      ]
     },
     "execution_count": 12,
     "metadata": {},
     "output_type": "execute_result"
    }
   ],
   "source": [
    "# patients aggregated\n",
    "icu_agg = icu_df.groupby(icu_df['SUBJECT_ID']).aggregate({'LOS': 'sum'})\n",
    "icu_agg.describe()"
   ]
  },
  {
   "cell_type": "code",
   "execution_count": 13,
   "metadata": {},
   "outputs": [
    {
     "data": {
      "text/plain": [
       "<matplotlib.axes._subplots.AxesSubplot at 0x1cbdd33c390>"
      ]
     },
     "execution_count": 13,
     "metadata": {},
     "output_type": "execute_result"
    },
    {
     "data": {
      "image/png": "[encoded data removed]",
      "text/plain": [
       "<matplotlib.figure.Figure at 0x1cbdd6f7710>"
      ]
     },
     "metadata": {},
     "output_type": "display_data"
    }
   ],
   "source": [
    "plt.figure(figsize=(16,7))\n",
    "sns.distplot(icu_agg['LOS'])"
   ]
  },
  {
   "cell_type": "code",
   "execution_count": 14,
   "metadata": {},
   "outputs": [
    {
     "data": {
      "text/plain": [
       "count    2225.000000\n",
       "mean       13.954395\n",
       "std        17.219267\n",
       "min         0.158300\n",
       "25%         3.192500\n",
       "50%         7.984100\n",
       "75%        17.991800\n",
       "max       181.873500\n",
       "Name: LOS, dtype: float64"
      ]
     },
     "execution_count": 14,
     "metadata": {},
     "output_type": "execute_result"
    }
   ],
   "source": [
    "# patients expired (aggregated)\n",
    "expired = icu_df[(icu_df['EXPIRED_FLAG'] == 1)]\n",
    "expired = expired.groupby(expired['SUBJECT_ID']).aggregate({'LOS': 'sum'})\n",
    "expired['LOS'].describe()"
   ]
  },
  {
   "cell_type": "markdown",
   "metadata": {},
   "source": [
    "## Num of Conditions (by ICD)"
   ]
  },
  {
   "cell_type": "code",
   "execution_count": 15,
   "metadata": {},
   "outputs": [
    {
     "data": {
      "text/plain": [
       "count    4554.000000\n",
       "mean       25.508564\n",
       "std        15.376183\n",
       "min         3.000000\n",
       "25%        15.000000\n",
       "50%        21.000000\n",
       "75%        32.000000\n",
       "max       144.000000\n",
       "Name: ICD, dtype: float64"
      ]
     },
     "execution_count": 15,
     "metadata": {},
     "output_type": "execute_result"
    }
   ],
   "source": [
    "df['ICD'].describe()"
   ]
  },
  {
   "cell_type": "code",
   "execution_count": 16,
   "metadata": {},
   "outputs": [
    {
     "data": {
      "text/plain": [
       "<matplotlib.axes._subplots.AxesSubplot at 0x1cbdd9d4198>"
      ]
     },
     "execution_count": 16,
     "metadata": {},
     "output_type": "execute_result"
    },
    {
     "data": {
      "image/png": "[encoded data removed]",
      "text/plain": [
       "<matplotlib.figure.Figure at 0x1cbdeb9b470>"
      ]
     },
     "metadata": {},
     "output_type": "display_data"
    }
   ],
   "source": [
    "plt.figure(figsize=(16,7))\n",
    "sns.distplot(df['ICD'])"
   ]
  },
  {
   "cell_type": "markdown",
   "metadata": {},
   "source": [
    "## Num of Meds (by NDC)"
   ]
  },
  {
   "cell_type": "code",
   "execution_count": 17,
   "metadata": {},
   "outputs": [
    {
     "data": {
      "text/html": [
       "<div>\n",
       "<style>\n",
       "    .dataframe thead tr:only-child th {\n",
       "        text-align: right;\n",
       "    }\n",
       "\n",
       "    .dataframe thead th {\n",
       "        text-align: left;\n",
       "    }\n",
       "\n",
       "    .dataframe tbody tr th {\n",
       "        vertical-align: top;\n",
       "    }\n",
       "</style>\n",
       "<table border=\"1\" class=\"dataframe\">\n",
       "  <thead>\n",
       "    <tr style=\"text-align: right;\">\n",
       "      <th></th>\n",
       "      <th>SUBJECT_ID</th>\n",
       "      <th>MEDS</th>\n",
       "    </tr>\n",
       "  </thead>\n",
       "  <tbody>\n",
       "    <tr>\n",
       "      <th>count</th>\n",
       "      <td>4551.000000</td>\n",
       "      <td>4551.000000</td>\n",
       "    </tr>\n",
       "    <tr>\n",
       "      <th>mean</th>\n",
       "      <td>40825.144803</td>\n",
       "      <td>73.027466</td>\n",
       "    </tr>\n",
       "    <tr>\n",
       "      <th>std</th>\n",
       "      <td>29655.152079</td>\n",
       "      <td>42.370354</td>\n",
       "    </tr>\n",
       "    <tr>\n",
       "      <th>min</th>\n",
       "      <td>21.000000</td>\n",
       "      <td>2.000000</td>\n",
       "    </tr>\n",
       "    <tr>\n",
       "      <th>25%</th>\n",
       "      <td>15607.500000</td>\n",
       "      <td>41.000000</td>\n",
       "    </tr>\n",
       "    <tr>\n",
       "      <th>50%</th>\n",
       "      <td>30202.000000</td>\n",
       "      <td>64.000000</td>\n",
       "    </tr>\n",
       "    <tr>\n",
       "      <th>75%</th>\n",
       "      <td>66000.500000</td>\n",
       "      <td>94.000000</td>\n",
       "    </tr>\n",
       "    <tr>\n",
       "      <th>max</th>\n",
       "      <td>99991.000000</td>\n",
       "      <td>346.000000</td>\n",
       "    </tr>\n",
       "  </tbody>\n",
       "</table>\n",
       "</div>"
      ],
      "text/plain": [
       "         SUBJECT_ID         MEDS\n",
       "count   4551.000000  4551.000000\n",
       "mean   40825.144803    73.027466\n",
       "std    29655.152079    42.370354\n",
       "min       21.000000     2.000000\n",
       "25%    15607.500000    41.000000\n",
       "50%    30202.000000    64.000000\n",
       "75%    66000.500000    94.000000\n",
       "max    99991.000000   346.000000"
      ]
     },
     "execution_count": 17,
     "metadata": {},
     "output_type": "execute_result"
    }
   ],
   "source": [
    "meds.describe()"
   ]
  },
  {
   "cell_type": "code",
   "execution_count": null,
   "metadata": {
    "collapsed": true
   },
   "outputs": [],
   "source": []
  },
  {
   "cell_type": "markdown",
   "metadata": {},
   "source": [
    "## Gender Frequency & Distribution"
   ]
  },
  {
   "cell_type": "code",
   "execution_count": 18,
   "metadata": {},
   "outputs": [
    {
     "data": {
      "text/plain": [
       "M    2525\n",
       "F    2029\n",
       "Name: GENDER, dtype: int64"
      ]
     },
     "execution_count": 18,
     "metadata": {},
     "output_type": "execute_result"
    }
   ],
   "source": [
    "gend = df['GENDER'].value_counts()\n",
    "gend"
   ]
  },
  {
   "cell_type": "code",
   "execution_count": 19,
   "metadata": {},
   "outputs": [
    {
     "data": {
      "text/plain": [
       "{'F': 0.45000000000000001, 'M': 0.55000000000000004}"
      ]
     },
     "execution_count": 19,
     "metadata": {},
     "output_type": "execute_result"
    }
   ],
   "source": [
    "gender = {}\n",
    "for mf, count in gend.items():\n",
    "    gender[mf] = round(count / len(df['GENDER']),2)\n",
    "gender"
   ]
  },
  {
   "cell_type": "markdown",
   "metadata": {},
   "source": [
    "## Survived vs. Expired Frequency & Distribution"
   ]
  },
  {
   "cell_type": "code",
   "execution_count": 20,
   "metadata": {},
   "outputs": [
    {
     "data": {
      "text/plain": [
       "{0: 0.51000000000000001, 1: 0.48999999999999999}"
      ]
     },
     "execution_count": 20,
     "metadata": {},
     "output_type": "execute_result"
    }
   ],
   "source": [
    "expired = df['EXPIRED_FLAG'].value_counts()\n",
    "expired\n",
    "xprd = {}\n",
    "for flag, count in expired.items():\n",
    "    xprd[flag] = round(count / len(df['EXPIRED_FLAG']),2)\n",
    "xprd"
   ]
  },
  {
   "cell_type": "code",
   "execution_count": 21,
   "metadata": {},
   "outputs": [
    {
     "data": {
      "text/plain": [
       "0    2329\n",
       "1    2225\n",
       "Name: EXPIRED_FLAG, dtype: int64"
      ]
     },
     "execution_count": 21,
     "metadata": {},
     "output_type": "execute_result"
    }
   ],
   "source": [
    "expired"
   ]
  },
  {
   "cell_type": "markdown",
   "metadata": {},
   "source": [
    "## Gender vs. Survival"
   ]
  },
  {
   "cell_type": "code",
   "execution_count": 22,
   "metadata": {},
   "outputs": [
    {
     "data": {
      "text/html": [
       "<div>\n",
       "<style>\n",
       "    .dataframe thead tr:only-child th {\n",
       "        text-align: right;\n",
       "    }\n",
       "\n",
       "    .dataframe thead th {\n",
       "        text-align: left;\n",
       "    }\n",
       "\n",
       "    .dataframe tbody tr th {\n",
       "        vertical-align: top;\n",
       "    }\n",
       "</style>\n",
       "<table border=\"1\" class=\"dataframe\">\n",
       "  <thead>\n",
       "    <tr style=\"text-align: right;\">\n",
       "      <th></th>\n",
       "      <th>GENDER</th>\n",
       "      <th>exp_count</th>\n",
       "      <th>surv_count</th>\n",
       "      <th>total</th>\n",
       "    </tr>\n",
       "  </thead>\n",
       "  <tbody>\n",
       "    <tr>\n",
       "      <th>0</th>\n",
       "      <td>M</td>\n",
       "      <td>1279</td>\n",
       "      <td>1246</td>\n",
       "      <td>2525</td>\n",
       "    </tr>\n",
       "    <tr>\n",
       "      <th>1</th>\n",
       "      <td>F</td>\n",
       "      <td>946</td>\n",
       "      <td>1083</td>\n",
       "      <td>2029</td>\n",
       "    </tr>\n",
       "  </tbody>\n",
       "</table>\n",
       "</div>"
      ],
      "text/plain": [
       "  GENDER  exp_count  surv_count  total\n",
       "0      M       1279        1246   2525\n",
       "1      F        946        1083   2029"
      ]
     },
     "execution_count": 22,
     "metadata": {},
     "output_type": "execute_result"
    }
   ],
   "source": [
    "gender_exp_no = df['GENDER'][(df['EXPIRED_FLAG'] == 0)].value_counts().reset_index().rename(columns={'index': 'GENDER',\n",
    "                                                                                                     'GENDER': 'surv_count'})\n",
    "gender_exp_yes = df['GENDER'][(df['EXPIRED_FLAG'] == 1)].value_counts().reset_index().rename(columns={'index': 'GENDER',\n",
    "                                                                                     'GENDER': 'exp_count'})\n",
    "gender_exp = gender_exp_yes.merge(gender_exp_no, left_on='GENDER', right_on='GENDER')\n",
    "gender_exp['total'] =  gender_exp_no['surv_count'] + gender_exp_yes['exp_count']\n",
    "gender_exp"
   ]
  },
  {
   "cell_type": "code",
   "execution_count": 23,
   "metadata": {
    "collapsed": true
   },
   "outputs": [],
   "source": [
    "sns.set(font_scale = 1.5)\n",
    "sns.set_style(\"white\")\n",
    "sns.set_context({\"figure.figsize\": (6, 5)})"
   ]
  },
  {
   "cell_type": "code",
   "execution_count": 24,
   "metadata": {},
   "outputs": [
    {
     "data": {
      "text/plain": [
       "<matplotlib.text.Text at 0x1cbdda73a90>"
      ]
     },
     "execution_count": 24,
     "metadata": {},
     "output_type": "execute_result"
    },
    {
     "data": {
      "image/png": "[encoded data removed]",
      "text/plain": [
       "<matplotlib.figure.Figure at 0x1cbded49748>"
      ]
     },
     "metadata": {},
     "output_type": "display_data"
    }
   ],
   "source": [
    "sns.barplot(x = gender_exp.GENDER, y = gender_exp.total, color= \"red\")\n",
    "bottom_plot = sns.barplot(x = gender_exp.GENDER, y = gender_exp.exp_count, color = \"#0000A3\")\n",
    "\n",
    "topbar = plt.Rectangle((0,0),1,1,fc=\"red\", edgecolor = 'none')\n",
    "bottombar = plt.Rectangle((0,0),1,1,fc='#0000A3',  edgecolor = 'none')\n",
    "l = plt.legend([bottombar, topbar], ['Expired', 'Survived'], bbox_to_anchor=(0.95, 1), prop={'size':18})\n",
    "l.draw_frame=(True)\n",
    "\n",
    "sns.despine(left=True)\n",
    "bottom_plot.set_ylabel(\"Count\")\n",
    "bottom_plot.set_xlabel(\"Gender\")"
   ]
  },
  {
   "cell_type": "code",
   "execution_count": null,
   "metadata": {
    "collapsed": true
   },
   "outputs": [],
   "source": []
  },
  {
   "cell_type": "code",
   "execution_count": 25,
   "metadata": {},
   "outputs": [
    {
     "data": {
      "text/html": [
       "<div>\n",
       "<style>\n",
       "    .dataframe thead tr:only-child th {\n",
       "        text-align: right;\n",
       "    }\n",
       "\n",
       "    .dataframe thead th {\n",
       "        text-align: left;\n",
       "    }\n",
       "\n",
       "    .dataframe tbody tr th {\n",
       "        vertical-align: top;\n",
       "    }\n",
       "</style>\n",
       "<table border=\"1\" class=\"dataframe\">\n",
       "  <thead>\n",
       "    <tr style=\"text-align: right;\">\n",
       "      <th></th>\n",
       "      <th>EXPIRED</th>\n",
       "      <th>Male</th>\n",
       "      <th>Female</th>\n",
       "      <th>total</th>\n",
       "    </tr>\n",
       "  </thead>\n",
       "  <tbody>\n",
       "    <tr>\n",
       "      <th>0</th>\n",
       "      <td>1</td>\n",
       "      <td>1279</td>\n",
       "      <td>946</td>\n",
       "      <td>2225</td>\n",
       "    </tr>\n",
       "    <tr>\n",
       "      <th>1</th>\n",
       "      <td>0</td>\n",
       "      <td>1246</td>\n",
       "      <td>1083</td>\n",
       "      <td>2329</td>\n",
       "    </tr>\n",
       "  </tbody>\n",
       "</table>\n",
       "</div>"
      ],
      "text/plain": [
       "   EXPIRED  Male  Female  total\n",
       "0        1  1279     946   2225\n",
       "1        0  1246    1083   2329"
      ]
     },
     "execution_count": 25,
     "metadata": {},
     "output_type": "execute_result"
    }
   ],
   "source": [
    "exp_gender_M = df['EXPIRED_FLAG'][(df['GENDER'] == 'M')].value_counts().reset_index().rename(columns={'index': 'EXPIRED',\n",
    "                                                                                    'EXPIRED_FLAG': 'Male'})\n",
    "exp_gender_F = df['EXPIRED_FLAG'][(df['GENDER'] == 'F')].value_counts().reset_index().rename(columns={'index': 'EXPIRED',\n",
    "                                                                                     'EXPIRED_FLAG': 'Female'})\n",
    "exp_gender = exp_gender_M.merge(exp_gender_F, left_on='EXPIRED', right_on='EXPIRED')\n",
    "exp_gender['total'] =  exp_gender['Male'] + exp_gender['Female']\n",
    "exp_gender"
   ]
  },
  {
   "cell_type": "code",
   "execution_count": 26,
   "metadata": {},
   "outputs": [
    {
     "data": {
      "text/plain": [
       "<matplotlib.text.Text at 0x1cbdf4036d8>"
      ]
     },
     "execution_count": 26,
     "metadata": {},
     "output_type": "execute_result"
    },
    {
     "data": {
      "image/png": "[encoded data removed]",
      "text/plain": [
       "<matplotlib.figure.Figure at 0x1cbdd9f7b70>"
      ]
     },
     "metadata": {},
     "output_type": "display_data"
    }
   ],
   "source": [
    "sns.barplot(x = exp_gender.EXPIRED, y = exp_gender.total, color= \"red\")\n",
    "bottom_plot = sns.barplot(x = exp_gender.EXPIRED, y = exp_gender.Male, color = \"#0000A3\")\n",
    "\n",
    "topbar = plt.Rectangle((0,0),1,1,fc=\"red\", edgecolor = 'none')\n",
    "bottombar = plt.Rectangle((0,0),1,1,fc='#0000A3',  edgecolor = 'none')\n",
    "l = plt.legend([bottombar, topbar], ['Male', 'Female'], bbox_to_anchor=(0.95, 1), prop={'size':18})\n",
    "l.draw_frame(True)\n",
    "\n",
    "sns.despine(left=True)\n",
    "bottom_plot.set_ylabel(\"Count\")\n",
    "bottom_plot.set_xlabel(\"Expired Flag\")"
   ]
  },
  {
   "cell_type": "code",
   "execution_count": null,
   "metadata": {
    "collapsed": true
   },
   "outputs": [],
   "source": []
  }
 ],
 "metadata": {
  "kernelspec": {
   "display_name": "Python 3",
   "language": "python",
   "name": "python3"
  },
  "language_info": {
   "codemirror_mode": {
    "name": "ipython",
    "version": 3
   },
   "file_extension": ".py",
   "mimetype": "text/x-python",
   "name": "python",
   "nbconvert_exporter": "python",
   "pygments_lexer": "ipython3",
   "version": "3.6.1"
  }
 },
 "nbformat": 4,
 "nbformat_minor": 2
}
